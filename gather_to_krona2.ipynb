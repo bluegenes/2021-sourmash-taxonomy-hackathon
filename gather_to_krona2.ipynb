{
 "cells": [
  {
   "cell_type": "code",
   "execution_count": 3,
   "metadata": {},
   "outputs": [
    {
     "name": "stdout",
     "output_type": "stream",
     "text": [
      "\u001b[K\n",
      "== This is sourmash version 4.1.1.dev17+g822d664. ==\n",
      "\u001b[K== Please cite Brown and Irber (2016), doi:10.21105/joss.00027. ==\n",
      "\n",
      "usage:  summarize [-h] [-q] [-o FILE] [-t FILE]\n",
      "                  [-r {strain,species,genus,family,order,class,phylum,superkingdom}]\n",
      "                  [--split-identifiers] [--keep-identifier-versions]\n",
      "                  [--fail-on-missing-taxonomy]\n",
      "                  gather_results [gather_results ...]\n",
      "\n",
      "positional arguments:\n",
      "  gather_results\n",
      "\n",
      "optional arguments:\n",
      "  -h, --help            show this help message and exit\n",
      "  -q, --quiet           suppress non-error output\n",
      "  -o FILE, --output FILE\n",
      "                        output signature to this file (default stdout)\n",
      "  -t FILE, --taxonomy-csv FILE\n",
      "                        database lineages csv\n",
      "  -r {strain,species,genus,family,order,class,phylum,superkingdom}, --rank {strain,species,genus,family,order,class,phylum,superkingdom}\n",
      "                        Summarize genome taxonomy at this rank and above\n",
      "  --split-identifiers   split names in signatures on whitespace\n",
      "  --keep-identifier-versions\n",
      "                        do not remove accession versions\n",
      "  --fail-on-missing-taxonomy\n",
      "                        fail quickly if taxonomy is not available for an\n",
      "                        identifier\n"
     ]
    }
   ],
   "source": [
    "!sourmash tax summarize -h"
   ]
  },
  {
   "cell_type": "code",
   "execution_count": 4,
   "metadata": {},
   "outputs": [
    {
     "name": "stdout",
     "output_type": "stream",
     "text": [
      "--2021-05-28 16:08:11--  https://osf.io/p6z3w/\n",
      "Resolving osf.io (osf.io)... 35.190.84.173\n",
      "Connecting to osf.io (osf.io)|35.190.84.173|:443... connected.\n",
      "HTTP request sent, awaiting response... 200 OK\n",
      "Length: 40791 (40K) [text/html]\n",
      "Saving to: ‘gtdb-rs202.taxonomy.v2.csv’\n",
      "\n",
      "gtdb-rs202.taxonomy 100%[===================>]  39.83K  --.-KB/s    in 0.04s   \n",
      "\n",
      "2021-05-28 16:08:13 (1004 KB/s) - ‘gtdb-rs202.taxonomy.v2.csv’ saved [40791/40791]\n",
      "\n"
     ]
    }
   ],
   "source": [
    "# download lineage file:\n",
    "!wget -O gtdb-rs202.taxonomy.v2.csv https://osf.io/p6z3w/"
   ]
  },
  {
   "cell_type": "code",
   "execution_count": 5,
   "metadata": {},
   "outputs": [
    {
     "name": "stdout",
     "output_type": "stream",
     "text": [
      "\u001b[K\n",
      "== This is sourmash version 4.1.1.dev17+g822d664. ==\n",
      "\u001b[K== Please cite Brown and Irber (2016), doi:10.21105/joss.00027. ==\n",
      "\n",
      "loaded 4 gather results from outputs/gather/HSMA33MX_gather_x_gtdbrs202_k31.csv.\n",
      "loaded 4 gather results in total.\n",
      "\u001b[Kexamining spreadsheet headers...\n",
      "Traceback (most recent call last):\n",
      "  File \"/srv/conda/envs/notebook/bin/sourmash\", line 8, in <module>\n",
      "    sys.exit(main())\n",
      "  File \"/srv/conda/envs/notebook/lib/python3.7/site-packages/sourmash/__main__.py\", line 13, in main\n",
      "    return mainmethod(args)\n",
      "  File \"/srv/conda/envs/notebook/lib/python3.7/site-packages/sourmash/cli/tax/summarize.py\", line 41, in main\n",
      "    return sourmash.tax.__main__.summarize(args)\n",
      "  File \"/srv/conda/envs/notebook/lib/python3.7/site-packages/sourmash/tax/__main__.py\", line 49, in summarize\n",
      "    tax_assign, _ = load_taxonomy_assignments(args.taxonomy_csv, use_headers=True, force=False, split_identifiers=args.split_identifiers, keep_identifier_versions = args.keep_identifier_versions)\n",
      "  File \"/srv/conda/envs/notebook/lib/python3.7/site-packages/sourmash/lca/command_index.py\", line 91, in load_taxonomy_assignments\n",
      "    raise Exception(\"multiple lineages for identifier {}\".format(ident))\n",
      "Exception: multiple lineages for identifier                 <li><a data-bind=\"click: trackClick.bind($data\n"
     ]
    }
   ],
   "source": [
    "!sourmash tax summarize -r species -o outputs/gather/HSMA33MX_gather_x_gtdbrs202_k31_summarized.csv -t gtdb-rs202.taxonomy.v2.csv outputs/gather/HSMA33MX_gather_x_gtdbrs202_k31.csv"
   ]
  },
  {
   "cell_type": "markdown",
   "metadata": {},
   "source": [
    "* Use CSV file pasted in to slack by Tessa as demo data."
   ]
  },
  {
   "cell_type": "code",
   "execution_count": 6,
   "metadata": {},
   "outputs": [],
   "source": [
    "import csv\n"
   ]
  },
  {
   "cell_type": "code",
   "execution_count": 16,
   "metadata": {},
   "outputs": [],
   "source": [
    "rank = \"species\"\n",
    "krona_results = [('fraction', 'superkingdom', \"phylum\", \"class\", \"order\", \"family\", \"genus\", \"species\")]\n",
    "summarize_tax_results = \"demo.csv\"\n",
    "with open(summarize_tax_results, 'r') as fp:\n",
    "    r = csv.DictReader(fp)\n",
    "    for n, row in enumerate(r):\n",
    "        if row[\"rank\"] == rank:\n",
    "            lineage = row[\"lineage\"].split(\";\")\n",
    "            krona_results.append((row[\"fraction\"], *lineage))"
   ]
  },
  {
   "cell_type": "code",
   "execution_count": 17,
   "metadata": {},
   "outputs": [],
   "source": [
    "with open('demo_krona_results.tsv', 'w', newline='') as f_output:\n",
    "    tsv_output = csv.writer(f_output, delimiter='\\t')\n",
    "    for row in krona_results:\n",
    "        tsv_output.writerow(row)"
   ]
  },
  {
   "cell_type": "code",
   "execution_count": 25,
   "metadata": {},
   "outputs": [],
   "source": [
    "def format_for_krona(rank, csv_in, tsv_out):\n",
    "    rank = rank.lower()\n",
    "    krona_results = [('fraction', 'superkingdom', \"phylum\", \"class\", \"order\", \"family\", \"genus\", \"species\")]\n",
    "    if rank not in krona_results[0][1:]:\n",
    "        raise ValueError(f\"Rank {rank} not present in header!\")\n",
    "        \n",
    "    summarize_tax_results = csv_in\n",
    "    with open(summarize_tax_results, 'r') as fp:\n",
    "        r = csv.DictReader(fp)\n",
    "        for n, row in enumerate(r):\n",
    "            if row[\"rank\"] == rank:\n",
    "                lineage = row[\"lineage\"].split(\";\")\n",
    "                krona_results.append((row[\"fraction\"], *lineage))\n",
    "    \n",
    "    with open(tsv_out, 'w', newline='') as f_output:\n",
    "        tsv_output = csv.writer(f_output, delimiter='\\t')\n",
    "        for row in krona_results:\n",
    "            tsv_output.writerow(row)"
   ]
  },
  {
   "cell_type": "code",
   "execution_count": 19,
   "metadata": {},
   "outputs": [],
   "source": [
    "format_for_krona(rank = \"species\", csv_in = \"demo.csv\", tsv_out = \"demo_krona_results2.tsv\")"
   ]
  },
  {
   "cell_type": "code",
   "execution_count": 26,
   "metadata": {},
   "outputs": [],
   "source": [
    "format_for_krona(rank = \"Species\", csv_in = \"demo.csv\", tsv_out = \"demo_krona_results2.tsv\")"
   ]
  },
  {
   "cell_type": "code",
   "execution_count": 27,
   "metadata": {},
   "outputs": [
    {
     "ename": "ValueError",
     "evalue": "Rank spider not present in header!",
     "output_type": "error",
     "traceback": [
      "\u001b[0;31m---------------------------------------------------------------------------\u001b[0m",
      "\u001b[0;31mValueError\u001b[0m                                Traceback (most recent call last)",
      "\u001b[0;32m<ipython-input-27-fe7ff702b47e>\u001b[0m in \u001b[0;36m<module>\u001b[0;34m\u001b[0m\n\u001b[0;32m----> 1\u001b[0;31m \u001b[0mformat_for_krona\u001b[0m\u001b[0;34m(\u001b[0m\u001b[0mrank\u001b[0m \u001b[0;34m=\u001b[0m \u001b[0;34m\"spider\"\u001b[0m\u001b[0;34m,\u001b[0m \u001b[0mcsv_in\u001b[0m \u001b[0;34m=\u001b[0m \u001b[0;34m\"demo.csv\"\u001b[0m\u001b[0;34m,\u001b[0m \u001b[0mtsv_out\u001b[0m \u001b[0;34m=\u001b[0m \u001b[0;34m\"demo_krona_results2.tsv\"\u001b[0m\u001b[0;34m)\u001b[0m\u001b[0;34m\u001b[0m\u001b[0;34m\u001b[0m\u001b[0m\n\u001b[0m",
      "\u001b[0;32m<ipython-input-25-da80c91fec37>\u001b[0m in \u001b[0;36mformat_for_krona\u001b[0;34m(rank, csv_in, tsv_out)\u001b[0m\n\u001b[1;32m      3\u001b[0m     \u001b[0mkrona_results\u001b[0m \u001b[0;34m=\u001b[0m \u001b[0;34m[\u001b[0m\u001b[0;34m(\u001b[0m\u001b[0;34m'fraction'\u001b[0m\u001b[0;34m,\u001b[0m \u001b[0;34m'superkingdom'\u001b[0m\u001b[0;34m,\u001b[0m \u001b[0;34m\"phylum\"\u001b[0m\u001b[0;34m,\u001b[0m \u001b[0;34m\"class\"\u001b[0m\u001b[0;34m,\u001b[0m \u001b[0;34m\"order\"\u001b[0m\u001b[0;34m,\u001b[0m \u001b[0;34m\"family\"\u001b[0m\u001b[0;34m,\u001b[0m \u001b[0;34m\"genus\"\u001b[0m\u001b[0;34m,\u001b[0m \u001b[0;34m\"species\"\u001b[0m\u001b[0;34m)\u001b[0m\u001b[0;34m]\u001b[0m\u001b[0;34m\u001b[0m\u001b[0;34m\u001b[0m\u001b[0m\n\u001b[1;32m      4\u001b[0m     \u001b[0;32mif\u001b[0m \u001b[0mrank\u001b[0m \u001b[0;32mnot\u001b[0m \u001b[0;32min\u001b[0m \u001b[0mkrona_results\u001b[0m\u001b[0;34m[\u001b[0m\u001b[0;36m0\u001b[0m\u001b[0;34m]\u001b[0m\u001b[0;34m[\u001b[0m\u001b[0;36m1\u001b[0m\u001b[0;34m:\u001b[0m\u001b[0;34m]\u001b[0m\u001b[0;34m:\u001b[0m\u001b[0;34m\u001b[0m\u001b[0;34m\u001b[0m\u001b[0m\n\u001b[0;32m----> 5\u001b[0;31m         \u001b[0;32mraise\u001b[0m \u001b[0mValueError\u001b[0m\u001b[0;34m(\u001b[0m\u001b[0;34mf\"Rank {rank} not present in header!\"\u001b[0m\u001b[0;34m)\u001b[0m\u001b[0;34m\u001b[0m\u001b[0;34m\u001b[0m\u001b[0m\n\u001b[0m\u001b[1;32m      6\u001b[0m \u001b[0;34m\u001b[0m\u001b[0m\n\u001b[1;32m      7\u001b[0m     \u001b[0msummarize_tax_results\u001b[0m \u001b[0;34m=\u001b[0m \u001b[0mcsv_in\u001b[0m\u001b[0;34m\u001b[0m\u001b[0;34m\u001b[0m\u001b[0m\n",
      "\u001b[0;31mValueError\u001b[0m: Rank spider not present in header!"
     ]
    }
   ],
   "source": [
    "format_for_krona(rank = \"spider\", csv_in = \"demo.csv\", tsv_out = \"demo_krona_results2.tsv\")"
   ]
  },
  {
   "cell_type": "code",
   "execution_count": null,
   "metadata": {},
   "outputs": [],
   "source": []
  }
 ],
 "metadata": {
  "kernelspec": {
   "display_name": "Python 3",
   "language": "python",
   "name": "python3"
  },
  "language_info": {
   "codemirror_mode": {
    "name": "ipython",
    "version": 3
   },
   "file_extension": ".py",
   "mimetype": "text/x-python",
   "name": "python",
   "nbconvert_exporter": "python",
   "pygments_lexer": "ipython3",
   "version": "3.7.10"
  }
 },
 "nbformat": 4,
 "nbformat_minor": 4
}
