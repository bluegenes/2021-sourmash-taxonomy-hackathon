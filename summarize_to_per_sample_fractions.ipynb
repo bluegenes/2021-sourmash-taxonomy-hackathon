{
 "cells": [
  {
   "cell_type": "code",
   "execution_count": 1,
   "id": "daffca59",
   "metadata": {},
   "outputs": [],
   "source": [
    "import csv\n",
    "import itertools\n",
    "import sys"
   ]
  },
  {
   "cell_type": "code",
   "execution_count": 2,
   "id": "78b231c9",
   "metadata": {},
   "outputs": [],
   "source": [
    "csvs = [\"demo.csv\", \"demo2.csv\"]"
   ]
  },
  {
   "cell_type": "code",
   "execution_count": 3,
   "id": "9ff6c30d",
   "metadata": {},
   "outputs": [
    {
     "data": {
      "text/plain": [
       "['demo', 'demo2']"
      ]
     },
     "execution_count": 3,
     "metadata": {},
     "output_type": "execute_result"
    }
   ],
   "source": [
    "samples = [csv.split(\".\")[0] for csv in csvs]\n",
    "samples"
   ]
  },
  {
   "cell_type": "code",
   "execution_count": 4,
   "id": "7ef737f6",
   "metadata": {},
   "outputs": [
    {
     "name": "stdout",
     "output_type": "stream",
     "text": [
      "{'d__Bacteria;p__Bacteroidota;c__Bacteroidia;o__Bacteroidales;f__Bacteroidaceae;g__Prevotella;s__Prevotella copri': {'demo': '0.057', 'demo2': '0.057'}, 'd__Bacteria;p__Bacteroidota;c__Bacteroidia;o__Bacteroidales;f__Bacteroidaceae;g__Phocaeicola;s__Phocaeicola vulgatus': {'demo': '0.016', 'demo2': 0}, 'd__Bacteria;p__Proteobacteria;c__Gammaproteobacteria;o__Enterobacterales;f__Enterobacteriaceae;g__Escherichia;s__Escherichia coli': {'demo': '0.058', 'demo2': '0.058'}, 'd__Bacteria;p__Bacteroidota;c__Bacteroidia;o__Bacteroidales;f__Bacteroidaceae;g__Phocaeicola;s__Fake species': {'demo': 0, 'demo2': '0.016'}}\n"
     ]
    }
   ],
   "source": [
    "rank = \"species\"\n",
    "lineage_dict = {}\n",
    "sample_name_dict = {}\n",
    "seen_lineages = set()\n",
    "\n",
    "# create dictionary that holds all of the sample names\n",
    "for file in csvs:\n",
    "    sample_name = file.split('.')[0]\n",
    "    sample_name_dict[sample_name] = 0 \n",
    "\n",
    "for file in csvs:\n",
    "    with open(file, 'r') as fp:\n",
    "        r = csv.DictReader(fp)\n",
    "        for n, row in enumerate(r):\n",
    "            if row[\"rank\"] == rank:\n",
    "                seen_lineages.add(row[\"lineage\"])\n",
    "        fp.close()\n",
    "\n",
    "for lineage in seen_lineages:\n",
    "    lineage_dict[lineage] = sample_name_dict.copy()\n",
    "\n",
    "for sample in sample_name_dict:\n",
    "    with open(sample + \".csv\", \"r\") as fp:\n",
    "        r = csv.DictReader(fp)\n",
    "        for n, row in enumerate(r):\n",
    "            if row[\"rank\"] == rank:\n",
    "                lineage = (row[\"lineage\"])\n",
    "                fraction = (row[\"fraction\"])\n",
    "                lineage_dict[lineage][sample] = fraction\n",
    "        fp.close()\n",
    "\n",
    "\n",
    "print(lineage_dict)"
   ]
  },
  {
   "cell_type": "code",
   "execution_count": 5,
   "id": "791e92f1",
   "metadata": {},
   "outputs": [
    {
     "name": "stdout",
     "output_type": "stream",
     "text": [
      "d__Bacteria;p__Bacteroidota;c__Bacteroidia;o__Bacteroidales;f__Bacteroidaceae;g__Phocaeicola;s__Fake species,0,0.016\r\n",
      "d__Bacteria;p__Bacteroidota;c__Bacteroidia;o__Bacteroidales;f__Bacteroidaceae;g__Phocaeicola;s__Phocaeicola vulgatus,0.016,0\r\n",
      "d__Bacteria;p__Bacteroidota;c__Bacteroidia;o__Bacteroidales;f__Bacteroidaceae;g__Prevotella;s__Prevotella copri,0.057,0.057\r\n",
      "d__Bacteria;p__Proteobacteria;c__Gammaproteobacteria;o__Enterobacterales;f__Enterobacteriaceae;g__Escherichia;s__Escherichia coli,0.058,0.058\r\n"
     ]
    }
   ],
   "source": [
    "samples.insert(0, \"lineage\")\n",
    "\n",
    "w = csv.DictWriter( sys.stdout, samples)\n",
    "for key,val in sorted(lineage_dict.items()):\n",
    "    row = {'lineage': key}\n",
    "    row.update(val)\n",
    "    w.writerow(row)"
   ]
  },
  {
   "cell_type": "code",
   "execution_count": 15,
   "id": "00ebfc57",
   "metadata": {},
   "outputs": [],
   "source": [
    "def format_tax_to_frac(taxonomy_csvs, rank, output_csv):\n",
    "    '''\n",
    "    takes the output for sourmash taxonomy summarize and produces a \n",
    "    tab-separated file with fractions for each sample. Sample names\n",
    "    are based on csv file names, with \".csv\" removed\n",
    "    lineage\tsample1\tsample2\tsample3\t\n",
    "    lin_a\t.4\t.17\t.6\n",
    "    lin_b\t0\t0\t.1\n",
    "    lin_c\t0\t.3\t0\n",
    "    lin_d\t.2\t.1\t0\n",
    "    lin_e\t0\t0\t.01\n",
    "    lin_f\t0\t.07\t0\n",
    "    lin_g\t0\t0\t0\n",
    "    lin_h\t.3\t.4\t.2\n",
    "    '''\n",
    "    samples = [csv.split(\".\")[0] for csv in csvs]\n",
    "\n",
    "    possible_ranks = ['superkingdom', \"phylum\", \"class\", \"order\", \"family\", \"genus\", \"species\"]\n",
    "    if rank not in possible_ranks:\n",
    "        raise ValueError(f\"Rank {rank} not available\")\n",
    "\n",
    "    \n",
    "    lineage_dict = {}\n",
    "    sample_name_dict = {}\n",
    "    seen_lineages = set()\n",
    "\n",
    "    # create dictionary that holds all of the sample names\n",
    "    for file in csvs:\n",
    "        sample_name = file.split('.')[0]\n",
    "        sample_name_dict[sample_name] = 0 \n",
    "\n",
    "    for file in csvs:\n",
    "        with open(file, 'r') as fp:\n",
    "            r = csv.DictReader(fp)\n",
    "            for n, row in enumerate(r):\n",
    "                if row[\"rank\"] == rank:\n",
    "                    seen_lineages.add(row[\"lineage\"])\n",
    "            fp.close()\n",
    "\n",
    "    for lineage in seen_lineages:\n",
    "        lineage_dict[lineage] = sample_name_dict.copy()\n",
    "\n",
    "    for sample in sample_name_dict:\n",
    "        with open(sample + \".csv\", \"r\") as fp:\n",
    "            r = csv.DictReader(fp)\n",
    "            for n, row in enumerate(r):\n",
    "                if row[\"rank\"] == rank:\n",
    "                    lineage = (row[\"lineage\"])\n",
    "                    fraction = (row[\"fraction\"])\n",
    "                    lineage_dict[lineage][sample] = fraction\n",
    "            fp.close()\n",
    "\n",
    "\n",
    "    samples.insert(0, \"lineage\")\n",
    "    with open(output_csv, 'w') as f_output:\n",
    "        w = csv.DictWriter(f_output, samples)\n",
    "        for key,val in sorted(lineage_dict.items()):\n",
    "            row = {'lineage': key}\n",
    "            row.update(val + 1)\n",
    "            w.writerow(row)"
   ]
  },
  {
   "cell_type": "code",
   "execution_count": 16,
   "id": "891c8e4a",
   "metadata": {},
   "outputs": [
    {
     "ename": "TypeError",
     "evalue": "__init__() missing 1 required positional argument: 'fieldnames'",
     "output_type": "error",
     "traceback": [
      "\u001b[0;31m---------------------------------------------------------------------------\u001b[0m",
      "\u001b[0;31mTypeError\u001b[0m                                 Traceback (most recent call last)",
      "\u001b[0;32m<ipython-input-16-5b0d65ac0bc9>\u001b[0m in \u001b[0;36m<module>\u001b[0;34m\u001b[0m\n\u001b[0;32m----> 1\u001b[0;31m \u001b[0mformat_tax_to_frac\u001b[0m\u001b[0;34m(\u001b[0m\u001b[0mcsvs\u001b[0m\u001b[0;34m,\u001b[0m \u001b[0;34m\"species\"\u001b[0m\u001b[0;34m,\u001b[0m \u001b[0;34m\"tmp.csv\"\u001b[0m\u001b[0;34m)\u001b[0m\u001b[0;34m\u001b[0m\u001b[0;34m\u001b[0m\u001b[0m\n\u001b[0m",
      "\u001b[0;32m<ipython-input-15-c0db6c5c74d0>\u001b[0m in \u001b[0;36mformat_tax_to_frac\u001b[0;34m(taxonomy_csvs, rank, output_csv)\u001b[0m\n\u001b[1;32m     54\u001b[0m     \u001b[0msamples\u001b[0m\u001b[0;34m.\u001b[0m\u001b[0minsert\u001b[0m\u001b[0;34m(\u001b[0m\u001b[0;36m0\u001b[0m\u001b[0;34m,\u001b[0m \u001b[0;34m\"lineage\"\u001b[0m\u001b[0;34m)\u001b[0m\u001b[0;34m\u001b[0m\u001b[0;34m\u001b[0m\u001b[0m\n\u001b[1;32m     55\u001b[0m     \u001b[0;32mwith\u001b[0m \u001b[0mopen\u001b[0m\u001b[0;34m(\u001b[0m\u001b[0moutput_csv\u001b[0m\u001b[0;34m,\u001b[0m \u001b[0;34m'w'\u001b[0m\u001b[0;34m)\u001b[0m \u001b[0;32mas\u001b[0m \u001b[0mf_output\u001b[0m\u001b[0;34m:\u001b[0m\u001b[0;34m\u001b[0m\u001b[0;34m\u001b[0m\u001b[0m\n\u001b[0;32m---> 56\u001b[0;31m         \u001b[0mw\u001b[0m \u001b[0;34m=\u001b[0m \u001b[0mcsv\u001b[0m\u001b[0;34m.\u001b[0m\u001b[0mDictWriter\u001b[0m\u001b[0;34m(\u001b[0m\u001b[0mf_output\u001b[0m\u001b[0;34m)\u001b[0m\u001b[0;34m\u001b[0m\u001b[0;34m\u001b[0m\u001b[0m\n\u001b[0m\u001b[1;32m     57\u001b[0m         \u001b[0mw\u001b[0m\u001b[0;34m.\u001b[0m\u001b[0mwriterow\u001b[0m\u001b[0;34m(\u001b[0m\u001b[0msamples\u001b[0m\u001b[0;34m)\u001b[0m\u001b[0;34m\u001b[0m\u001b[0;34m\u001b[0m\u001b[0m\n\u001b[1;32m     58\u001b[0m         \u001b[0;32mfor\u001b[0m \u001b[0mkey\u001b[0m\u001b[0;34m,\u001b[0m\u001b[0mval\u001b[0m \u001b[0;32min\u001b[0m \u001b[0msorted\u001b[0m\u001b[0;34m(\u001b[0m\u001b[0mlineage_dict\u001b[0m\u001b[0;34m.\u001b[0m\u001b[0mitems\u001b[0m\u001b[0;34m(\u001b[0m\u001b[0;34m)\u001b[0m\u001b[0;34m)\u001b[0m\u001b[0;34m:\u001b[0m\u001b[0;34m\u001b[0m\u001b[0;34m\u001b[0m\u001b[0m\n",
      "\u001b[0;31mTypeError\u001b[0m: __init__() missing 1 required positional argument: 'fieldnames'"
     ]
    }
   ],
   "source": [
    "format_tax_to_frac(csvs, \"species\", \"tmp.csv\")"
   ]
  },
  {
   "cell_type": "code",
   "execution_count": null,
   "id": "1ed3f5b5",
   "metadata": {},
   "outputs": [],
   "source": []
  }
 ],
 "metadata": {
  "kernelspec": {
   "display_name": "Python 3",
   "language": "python",
   "name": "python3"
  },
  "language_info": {
   "codemirror_mode": {
    "name": "ipython",
    "version": 3
   },
   "file_extension": ".py",
   "mimetype": "text/x-python",
   "name": "python",
   "nbconvert_exporter": "python",
   "pygments_lexer": "ipython3",
   "version": "3.7.10"
  }
 },
 "nbformat": 4,
 "nbformat_minor": 5
}
