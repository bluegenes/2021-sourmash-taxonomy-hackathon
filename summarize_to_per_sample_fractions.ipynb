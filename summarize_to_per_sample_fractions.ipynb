{
 "cells": [
  {
   "cell_type": "code",
   "execution_count": 1,
   "id": "daffca59",
   "metadata": {},
   "outputs": [],
   "source": [
    "import csv"
   ]
  },
  {
   "cell_type": "code",
   "execution_count": 54,
   "id": "78b231c9",
   "metadata": {},
   "outputs": [],
   "source": [
    "csvs = [\"demo.csv\", \"demo2.csv\"]"
   ]
  },
  {
   "cell_type": "code",
   "execution_count": 70,
   "id": "9ff6c30d",
   "metadata": {},
   "outputs": [
    {
     "data": {
      "text/plain": [
       "['demo', 'demo2']"
      ]
     },
     "execution_count": 70,
     "metadata": {},
     "output_type": "execute_result"
    }
   ],
   "source": [
    "samples = [csv.split(\".\")[0] for csv in csvs]\n",
    "samples"
   ]
  },
  {
   "cell_type": "code",
   "execution_count": 72,
   "id": "7ef737f6",
   "metadata": {},
   "outputs": [
    {
     "name": "stdout",
     "output_type": "stream",
     "text": [
      "{'d__Bacteria;p__Bacteroidota;c__Bacteroidia;o__Bacteroidales;f__Bacteroidaceae;g__Prevotella;s__Prevotella copri': {'demo': '0.057', 'demo2': '0.057'}, 'd__Bacteria;p__Bacteroidota;c__Bacteroidia;o__Bacteroidales;f__Bacteroidaceae;g__Phocaeicola;s__Fake species': {'demo': 0, 'demo2': '0.016'}, 'd__Bacteria;p__Bacteroidota;c__Bacteroidia;o__Bacteroidales;f__Bacteroidaceae;g__Phocaeicola;s__Phocaeicola vulgatus': {'demo': '0.016', 'demo2': 0}, 'd__Bacteria;p__Proteobacteria;c__Gammaproteobacteria;o__Enterobacterales;f__Enterobacteriaceae;g__Escherichia;s__Escherichia coli': {'demo': '0.058', 'demo2': '0.058'}}\n"
     ]
    }
   ],
   "source": [
    "rank = \"species\"\n",
    "lineage_dict = {}\n",
    "sample_name_dict = {}\n",
    "seen_lineages = set()\n",
    "\n",
    "# create dictionary that holds all of the sample names\n",
    "for file in csvs:\n",
    "    sample_name = file.split('.')[0]\n",
    "    sample_name_dict[sample_name] = 0 \n",
    "\n",
    "for file in csvs:\n",
    "    with open(file, 'r') as fp:\n",
    "        r = csv.DictReader(fp)\n",
    "        for n, row in enumerate(r):\n",
    "            if row[\"rank\"] == rank:\n",
    "                seen_lineages.add(row[\"lineage\"])\n",
    "        fp.close()\n",
    "\n",
    "for lineage in seen_lineages:\n",
    "    lineage_dict[lineage] = sample_name_dict.copy()\n",
    "\n",
    "for sample in sample_name_dict:\n",
    "    with open(sample + \".csv\", \"r\") as fp:\n",
    "        r = csv.DictReader(fp)\n",
    "        for n, row in enumerate(r):\n",
    "            if row[\"rank\"] == rank:\n",
    "                lineage = (row[\"lineage\"])\n",
    "                fraction = (row[\"fraction\"])\n",
    "                lineage_dict[lineage][sample] = fraction\n",
    "        fp.close()\n",
    "\n",
    "\n",
    "print(lineage_dict)"
   ]
  },
  {
   "cell_type": "code",
   "execution_count": 73,
   "id": "82d8cf55",
   "metadata": {},
   "outputs": [
    {
     "name": "stdout",
     "output_type": "stream",
     "text": [
      "d__Bacteria;p__Bacteroidota;c__Bacteroidia;o__Bacteroidales;f__Bacteroidaceae;g__Phocaeicola;s__Fake species,d__Bacteria;p__Bacteroidota;c__Bacteroidia;o__Bacteroidales;f__Bacteroidaceae;g__Phocaeicola;s__Fake species,0,0.016\r\n",
      "d__Bacteria;p__Bacteroidota;c__Bacteroidia;o__Bacteroidales;f__Bacteroidaceae;g__Phocaeicola;s__Phocaeicola vulgatus,d__Bacteria;p__Bacteroidota;c__Bacteroidia;o__Bacteroidales;f__Bacteroidaceae;g__Phocaeicola;s__Phocaeicola vulgatus,0.016,0\r\n",
      "d__Bacteria;p__Bacteroidota;c__Bacteroidia;o__Bacteroidales;f__Bacteroidaceae;g__Prevotella;s__Prevotella copri,d__Bacteria;p__Bacteroidota;c__Bacteroidia;o__Bacteroidales;f__Bacteroidaceae;g__Prevotella;s__Prevotella copri,0.057,0.057\r\n",
      "d__Bacteria;p__Proteobacteria;c__Gammaproteobacteria;o__Enterobacterales;f__Enterobacteriaceae;g__Escherichia;s__Escherichia coli,d__Bacteria;p__Proteobacteria;c__Gammaproteobacteria;o__Enterobacterales;f__Enterobacteriaceae;g__Escherichia;s__Escherichia coli,0.058,0.058\r\n"
     ]
    }
   ],
   "source": [
    "import itertools\n",
    "import sys\n",
    "\n",
    "samples.insert(0, \"lineage\")\n",
    "\n",
    "w = csv.DictWriter( sys.stdout, samples)\n",
    "for key,val in sorted(lineage_dict.items()):\n",
    "    row = {'lineage': key}\n",
    "    row.update(val)\n",
    "    w.writerow(row)"
   ]
  },
  {
   "cell_type": "code",
   "execution_count": 69,
   "id": "8c856ce8",
   "metadata": {},
   "outputs": [
    {
     "name": "stdout",
     "output_type": "stream",
     "text": [
      "['lineage', 'demo', 'demo2']\n"
     ]
    }
   ],
   "source": []
  },
  {
   "cell_type": "code",
   "execution_count": null,
   "id": "c59a42c5",
   "metadata": {},
   "outputs": [],
   "source": []
  },
  {
   "cell_type": "code",
   "execution_count": null,
   "id": "76852899",
   "metadata": {},
   "outputs": [],
   "source": []
  },
  {
   "cell_type": "code",
   "execution_count": null,
   "id": "a932712c",
   "metadata": {},
   "outputs": [],
   "source": []
  },
  {
   "cell_type": "code",
   "execution_count": null,
   "id": "9aeb362e",
   "metadata": {},
   "outputs": [],
   "source": []
  },
  {
   "cell_type": "code",
   "execution_count": null,
   "id": "602f1c27",
   "metadata": {},
   "outputs": [],
   "source": []
  },
  {
   "cell_type": "code",
   "execution_count": null,
   "id": "8f5d8162",
   "metadata": {},
   "outputs": [],
   "source": []
  },
  {
   "cell_type": "code",
   "execution_count": null,
   "id": "7f2ff89e",
   "metadata": {},
   "outputs": [],
   "source": [
    "rank = \"species\"\n",
    "key_lineage_dict = {}\n",
    "key_filename_dict = {}\n",
    "key_percent_dict = {}\n",
    "seen_lineages = ()\n",
    "seen_filenames = []\n",
    "for file in csvs:\n",
    "    seen_filenames.append(file)\n",
    "for file in csvs:\n",
    "    with open(file, 'r') as fp:\n",
    "        r = csv.DictReader(fp)\n",
    "        for n, row in enumerate(r):\n",
    "            if row[\"rank\"] == rank:\n",
    "                seen_lineages.add(row[\"lineage\"])\n",
    "for \n",
    "        for n, row in enumerate(r):\n",
    "   \n",
    "        for lineage in seen_lineages:\n",
    "            lineage_dict[lineage] = 0\n",
    "            \n",
    "    sample_name = file.split('.')[0]\n",
    "    results.append((row[\"lineage\"], sample_name, row[\"fraction\"]))\n",
    "    results[]\n",
    "print(results)"
   ]
  },
  {
   "cell_type": "code",
   "execution_count": null,
   "id": "e380383c",
   "metadata": {},
   "outputs": [],
   "source": []
  }
 ],
 "metadata": {
  "kernelspec": {
   "display_name": "Python 3",
   "language": "python",
   "name": "python3"
  },
  "language_info": {
   "codemirror_mode": {
    "name": "ipython",
    "version": 3
   },
   "file_extension": ".py",
   "mimetype": "text/x-python",
   "name": "python",
   "nbconvert_exporter": "python",
   "pygments_lexer": "ipython3",
   "version": "3.7.10"
  }
 },
 "nbformat": 4,
 "nbformat_minor": 5
}
