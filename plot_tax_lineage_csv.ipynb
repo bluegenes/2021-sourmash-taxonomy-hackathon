{
 "cells": [
  {
   "cell_type": "code",
   "execution_count": 1,
   "metadata": {},
   "outputs": [
    {
     "name": "stdout",
     "output_type": "stream",
     "text": [
      "  % Total    % Received % Xferd  Average Speed   Time    Time     Time  Current\n",
      "                                 Dload  Upload   Total   Spent    Left  Speed\n",
      "100   459  100   459    0     0   1000      0 --:--:-- --:--:-- --:--:--  1000\n",
      "100 83.1M  100 83.1M    0     0  42.6M      0  0:00:01  0:00:01 --:--:-- 90.3M\n"
     ]
    }
   ],
   "source": [
    "# download the genbank \n",
    "!curl -L https://osf.io/cbhgd/download -o bacteria_genbank_lineages.csv"
   ]
  },
  {
   "cell_type": "code",
   "execution_count": 13,
   "metadata": {},
   "outputs": [
    {
     "name": "stdout",
     "output_type": "stream",
     "text": [
      "\u001b[K\n",
      "== This is sourmash version 4.1.1.dev95+gac748dc. ==\n",
      "\u001b[K== Please cite Brown and Irber (2016), doi:10.21105/joss.00027. ==\n",
      "\n",
      "\u001b[Kloaded 6 gather results.\n",
      "\u001b[Kof 6, missed 2 lineage assignments.\n",
      "\u001b[KThe following are missing from the taxonomy information: GCA_002754635,GCA_000256725\n",
      "\u001b[Kloaded 6 gather results.\n",
      "\u001b[Kof 6, missed 2 lineage assignments.\n",
      "\u001b[KThe following are missing from the taxonomy information: GCA_002754635,GCA_000256725\n"
     ]
    }
   ],
   "source": [
    "# generate abundance matrix from samples\n",
    "!sourmash tax summarize outputs/gather/demo_gather_x_genbank_k31.csv outputs/gather/HSMA33MX_gather_x_genbank_k31.csv \\\n",
    "   --output-format lineage_summary -o demo \\\n",
    "   -r species -t bacteria_genbank_lineages.csv"
   ]
  },
  {
   "cell_type": "code",
   "execution_count": 69,
   "metadata": {},
   "outputs": [],
   "source": [
    "import numpy as np\n",
    "import matplotlib\n",
    "import matplotlib.pyplot as plt\n",
    "import csv\n",
    "import pylab\n",
    "import scipy.cluster.hierarchy as sch"
   ]
  },
  {
   "cell_type": "code",
   "execution_count": 126,
   "metadata": {},
   "outputs": [],
   "source": [
    "#notify('loading lineage summary from {}...', abund_filename)\n",
    "abund_filename = \"demo.lineage_summary.tsv\"\n",
    "\n",
    "with open(abund_filename) as fp:\n",
    "    reader = csv.reader(fp, delimiter = \"\\t\")\n",
    "    sample_names =  next(reader)\n",
    "    sample_names = sample_names[1:] # remove \"lineage\" from sample vector\n",
    "    num_cols = len(fp.readline().split(\"\\t\"))\n",
    "    fp.seek(0)\n",
    "    abund = np.genfromtxt(fp, delimiter='\\t', skip_header = 1, usecols = np.arange(1, num_cols))\n",
    "    abund = np.around(abund, decimals=3)\n",
    "    \n",
    "with open(abund_filename) as fp:\n",
    "    lineages = [row.split(\"\\t\")[0] for row in fp]\n",
    "    lineages = lineages[1:]\n",
    "\n",
    "full_lineage = False\n",
    "if not full_lineage:\n",
    "    lineages = [lineage.split(\";\")[-1] for lineage in lineages]\n",
    "# abund = np.genfromtxt(abund_filename, delimiter='\\t', skip_header = 1, usecols=range(1,num_cols))\n",
    "# notify('...got {} x {} matrix.', *D.shape)"
   ]
  },
  {
   "cell_type": "code",
   "execution_count": 124,
   "metadata": {},
   "outputs": [
    {
     "name": "stdout",
     "output_type": "stream",
     "text": [
      "[[0.016 0.016]\n",
      " [0.057 0.057]\n",
      " [0.058 0.158]]\n",
      "['demo', 'HSMA33MX']\n",
      "['Bacteroides vulgatus', 'Prevotella copri', 'Escherichia coli']\n"
     ]
    }
   ],
   "source": [
    "print(abund)\n",
    "print(sample_names) \n",
    "print(lineages)"
   ]
  },
  {
   "cell_type": "code",
   "execution_count": 125,
   "metadata": {},
   "outputs": [
    {
     "name": "stderr",
     "output_type": "stream",
     "text": [
      "/srv/conda/envs/notebook/lib/python3.7/site-packages/ipykernel_launcher.py:45: UserWarning: This figure includes Axes that are not compatible with tight_layout, so results might be incorrect.\n"
     ]
    },
    {
     "data": {
      "image/png": "[encoded data removed]",
      "text/plain": [
       "<Figure size 432x288 with 1 Axes>"
      ]
     },
     "metadata": {
      "needs_background": "light"
     },
     "output_type": "display_data"
    },
    {
     "data": {
      "image/png": "[encoded data removed]",
      "text/plain": [
       "<Figure size 432x288 with 2 Axes>"
      ]
     },
     "metadata": {
      "needs_background": "light"
     },
     "output_type": "display_data"
    }
   ],
   "source": [
    "vmax=1.0 \n",
    "vmin=0.0\n",
    "\n",
    "# hierarchically cluster the lineages axis\n",
    "Y = sch.linkage(abund, method='single')  # centroid\n",
    "Z1 = sch.dendrogram(Y, orientation='left', labels=lineages,\n",
    "                    get_leaves=True)\n",
    "\n",
    "# re-order labels along rows, top to bottom\n",
    "idx1 = Z1['leaves']\n",
    "reordered_lineages = [ lineages[i] for i in idx1 ]\n",
    "\n",
    "# reorder abund by the clustering in the dendrogram\n",
    "abund = abund[idx1, :]\n",
    "\n",
    "xstart = 0.315\n",
    "width = 0.45\n",
    "scale_xstart = xstart + width + 0.01\n",
    "    \n",
    "fig, ax = plt.subplots()\n",
    "im = ax.imshow(abund, origin = \"lower\")\n",
    "\n",
    "# Show all ticks\n",
    "ax.set_xticks(np.arange(len(sample_names)))\n",
    "ax.set_yticks(np.arange(len(reordered_lineages)))\n",
    "# Label ticks with the respective list entries\n",
    "ax.set_xticklabels(sample_names)\n",
    "ax.set_yticklabels(reordered_lineages)\n",
    "\n",
    "# Rotate the tick labels and set their alignment.\n",
    "plt.setp(ax.get_xticklabels(), rotation=45, ha=\"right\",\n",
    "         rotation_mode=\"anchor\")\n",
    "\n",
    "# Loop over data dimensions and create text annotations.\n",
    "for i in range(len(reordered_lineages)):\n",
    "    for j in range(len(sample_names)):\n",
    "        text = ax.text(j, i, abund[i, j],\n",
    "                       ha=\"center\", va=\"center\", color=\"w\")\n",
    "\n",
    "# Plot colorbar.\n",
    "axcolor = fig.add_axes([scale_xstart, 0.25, 0.02, 0.6])\n",
    "pylab.colorbar(im, cax=axcolor)\n",
    "    \n",
    "ax.set_title(\"Fractional abundances of gather results\")\n",
    "fig.tight_layout()\n",
    "plt.show()"
   ]
  },
  {
   "cell_type": "code",
   "execution_count": 127,
   "metadata": {},
   "outputs": [],
   "source": [
    "def plot_tax_lineage_csv(abund_filename, out_file, vmin = 0.0, vmax = 1.0, full_lineage = False):\n",
    "    import numpy as np\n",
    "    import matplotlib\n",
    "    import matplotlib.pyplot as plt\n",
    "    import csv\n",
    "    import pylab\n",
    "    import scipy.cluster.hierarchy as sch\n",
    "    \n",
    "    # read in sample names and abundance data\n",
    "    with open(abund_filename) as fp:\n",
    "        reader = csv.reader(fp, delimiter = \"\\t\")\n",
    "        sample_names =  next(reader)\n",
    "        sample_names = sample_names[1:] # remove \"lineage\" from sample vector\n",
    "        num_cols = len(fp.readline().split(\"\\t\"))\n",
    "        fp.seek(0)\n",
    "        abund = np.genfromtxt(fp, delimiter='\\t', skip_header = 1, usecols = np.arange(1, num_cols))\n",
    "        abund = np.around(abund, decimals=3)\n",
    "    \n",
    "    # read in lineage names\n",
    "    with open(abund_filename) as fp:\n",
    "        lineages = [row.split(\"\\t\")[0] for row in fp]\n",
    "        lineages = lineages[1:]\n",
    "\n",
    "    if not full_lineage:\n",
    "        lineages = [lineage.split(\";\")[-1] for lineage in lineages]\n",
    "    \n",
    "    # hierarchically cluster the lineages axis\n",
    "    Y = sch.linkage(abund, method='single')  # centroid\n",
    "    Z1 = sch.dendrogram(Y, orientation='left', labels=lineages,\n",
    "                        get_leaves=True)\n",
    "\n",
    "    # re-order labels along rows, top to bottom\n",
    "    idx1 = Z1['leaves']\n",
    "    reordered_lineages = [ lineages[i] for i in idx1 ]\n",
    "\n",
    "    # reorder abund by the clustering in the dendrogram\n",
    "    # only reorder lineage axis\n",
    "    abund = abund[idx1, :]\n",
    "\n",
    "    xstart = 0.315\n",
    "    width = 0.45\n",
    "    scale_xstart = xstart + width + 0.01\n",
    "    \n",
    "    fig, ax = plt.subplots()\n",
    "    im = ax.imshow(abund, origin = \"lower\")\n",
    "\n",
    "    # Show all ticks\n",
    "    ax.set_xticks(np.arange(len(sample_names)))\n",
    "    ax.set_yticks(np.arange(len(reordered_lineages)))\n",
    "    # Label ticks with the respective list entries\n",
    "    ax.set_xticklabels(sample_names)\n",
    "    ax.set_yticklabels(reordered_lineages)\n",
    "\n",
    "    # Rotate the tick labels and set their alignment.\n",
    "    plt.setp(ax.get_xticklabels(), rotation=45, ha=\"right\",\n",
    "             rotation_mode=\"anchor\")\n",
    "\n",
    "    # Loop over data dimensions and create text annotations.\n",
    "    for i in range(len(reordered_lineages)):\n",
    "        for j in range(len(sample_names)):\n",
    "            text = ax.text(j, i, abund[i, j],\n",
    "                           ha=\"center\", va=\"center\", color=\"w\")\n",
    "\n",
    "    # Plot colorbar.\n",
    "    axcolor = fig.add_axes([scale_xstart, 0.25, 0.02, 0.6])\n",
    "    pylab.colorbar(im, cax=axcolor)\n",
    "\n",
    "    fig.savefig(out_file)"
   ]
  },
  {
   "cell_type": "code",
   "execution_count": 128,
   "metadata": {},
   "outputs": [
    {
     "data": {
      "image/png": "[encoded data removed]",
      "text/plain": [
       "<Figure size 432x288 with 1 Axes>"
      ]
     },
     "metadata": {
      "needs_background": "light"
     },
     "output_type": "display_data"
    },
    {
     "data": {
      "image/png": "[encoded data removed]",
      "text/plain": [
       "<Figure size 432x288 with 2 Axes>"
      ]
     },
     "metadata": {
      "needs_background": "light"
     },
     "output_type": "display_data"
    }
   ],
   "source": [
    "plot_tax_lineage_csv(abund_filename, out_file = \"tmp.png\", vmin = 0.0, vmax = 1.0, full_lineage = False)"
   ]
  },
  {
   "cell_type": "code",
   "execution_count": null,
   "metadata": {},
   "outputs": [],
   "source": []
  }
 ],
 "metadata": {
  "kernelspec": {
   "display_name": "Python 3",
   "language": "python",
   "name": "python3"
  },
  "language_info": {
   "codemirror_mode": {
    "name": "ipython",
    "version": 3
   },
   "file_extension": ".py",
   "mimetype": "text/x-python",
   "name": "python",
   "nbconvert_exporter": "python",
   "pygments_lexer": "ipython3",
   "version": "3.7.8"
  }
 },
 "nbformat": 4,
 "nbformat_minor": 4
}
